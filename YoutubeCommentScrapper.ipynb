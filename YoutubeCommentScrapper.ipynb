{
  "cells": [
    {
      "cell_type": "markdown",
      "metadata": {
        "id": "view-in-github",
        "colab_type": "text"
      },
      "source": [
        "<a href=\"https://colab.research.google.com/github/Albayt54/uas_datamining/blob/main/YoutubeCommentScrapper.ipynb\" target=\"_parent\"><img src=\"https://colab.research.google.com/assets/colab-badge.svg\" alt=\"Open In Colab\"/></a>"
      ]
    },
    {
      "cell_type": "code",
      "execution_count": null,
      "id": "3528c8d4",
      "metadata": {
        "id": "3528c8d4"
      },
      "outputs": [],
      "source": [
        "import csv\n",
        "from googleapiclient.discovery import build\n",
        "from collections import Counter\n",
        "import streamlit as st\n",
        "from Senti import extract_video_id\n",
        "from googleapiclient.errors import HttpError"
      ]
    },
    {
      "cell_type": "markdown",
      "source": [
        "csv: Modul ini menyediakan fungsi untuk membaca dan menulis file CSV (Comma Separated Values).\n",
        "\n",
        "googleapiclient.discovery.build: Fungsi ini digunakan untuk membuat objek layanan untuk berinteraksi dengan Google API. Ini adalah bagian dari Google API Client Library untuk Python.\n",
        "\n",
        "collections.Counter: Ini adalah subkelas dari dictionary yang disediakan oleh modul collections, yang membantu menghitung objek yang bisa di-hash. Ini biasanya digunakan untuk menghitung elemen dalam iterable.\n",
        "\n",
        "streamlit as st: Ini mengimpor library Streamlit, yang digunakan untuk membuat aplikasi web untuk proyek data sains dan machine learning dengan sedikit usaha.\n",
        "\n",
        "from Senti import extract_video_id: Ini mengimpor fungsi bernama extract_video_id dari modul bernama Senti. Fungsi ini kemungkinan mengekstrak ID video dari input yang diberikan.\n",
        "\n",
        "from googleapiclient.errors import HttpError: Ini mengimpor kelas HttpError, yang digunakan untuk menangani kesalahan HTTP yang terjadi saat berinteraksi dengan Google API."
      ],
      "metadata": {
        "id": "iVxq88ZbQsV7"
      },
      "id": "iVxq88ZbQsV7"
    },
    {
      "cell_type": "code",
      "execution_count": null,
      "id": "eb3be7b5",
      "metadata": {
        "id": "eb3be7b5"
      },
      "outputs": [],
      "source": [
        "import warnings\n",
        "warnings.filterwarnings('ignore')"
      ]
    },
    {
      "cell_type": "markdown",
      "source": [
        "**warnings.filterwarnings('ignore'): Mengabaikan semua peringatan yang mungkin muncul selama eksekusi kode.**"
      ],
      "metadata": {
        "id": "5IZezmq_SIzP"
      },
      "id": "5IZezmq_SIzP"
    },
    {
      "cell_type": "code",
      "execution_count": null,
      "id": "0c05fa88",
      "metadata": {
        "lines_to_next_cell": 1,
        "id": "0c05fa88"
      },
      "outputs": [],
      "source": [
        "# Replace with your own API key\n",
        "DEVELOPER_KEY = st.secrets[\"API_KEY\"]\n",
        "YOUTUBE_API_SERVICE_NAME = 'youtube'\n",
        "YOUTUBE_API_VERSION = 'v3'\n",
        "# Create a client object to interact with the YouTube API\n",
        "youtube = build(YOUTUBE_API_SERVICE_NAME, YOUTUBE_API_VERSION, developerKey=DEVELOPER_KEY)"
      ]
    },
    {
      "cell_type": "markdown",
      "source": [
        "**st.secrets[\"API_KEY\"]: Mengambil kunci API dari secrets Streamlit untuk mengakses YouTube API.**\n",
        "\n",
        "**build(): Fungsi untuk membuat objek klien yang akan digunakan untuk berinteraksi dengan YouTube API.**"
      ],
      "metadata": {
        "id": "pNNUvcfFSPur"
      },
      "id": "pNNUvcfFSPur"
    },
    {
      "cell_type": "markdown",
      "id": "b03f7fcb",
      "metadata": {
        "id": "b03f7fcb"
      },
      "source": [
        "video_id=extract_video_id(youtube_link)"
      ]
    },
    {
      "cell_type": "code",
      "execution_count": null,
      "id": "2e93a33c",
      "metadata": {
        "id": "2e93a33c"
      },
      "outputs": [],
      "source": [
        "def get_channel_id(video_id):\n",
        "    response = youtube.videos().list(part='snippet', id=video_id).execute()\n",
        "    channel_id = response['items'][0]['snippet']['channelId']\n",
        "    return channel_id"
      ]
    },
    {
      "cell_type": "markdown",
      "source": [
        "**youtube.videos().list(part='snippet', id=video_id).execute(): Meminta informasi video berdasarkan ID video.\n",
        "channel_id: Mendapatkan ID channel dari respons yang diterima.**"
      ],
      "metadata": {
        "id": "npMsWqLSSo3d"
      },
      "id": "npMsWqLSSo3d"
    },
    {
      "cell_type": "markdown",
      "id": "93c4ee5e",
      "metadata": {
        "lines_to_next_cell": 2,
        "id": "93c4ee5e"
      },
      "source": [
        "channel_id=get_channel_id(video_id)"
      ]
    },
    {
      "cell_type": "code",
      "execution_count": null,
      "id": "a6c51afb",
      "metadata": {
        "lines_to_next_cell": 1,
        "id": "a6c51afb"
      },
      "outputs": [],
      "source": [
        "def save_video_comments_to_csv(video_id):\n",
        "    # Retrieve comments for the specified video using the comments().list() method\n",
        "    comments = []\n",
        "    results = youtube.commentThreads().list(\n",
        "        part='snippet',\n",
        "        videoId=video_id,\n",
        "        textFormat='plainText'\n",
        "    ).execute()\n",
        "\n",
        "    # Extract the text content of each comment and add it to the comments list\n",
        "    while results:\n",
        "        for item in results['items']:\n",
        "            comment = item['snippet']['topLevelComment']['snippet']['textDisplay']\n",
        "            username = item['snippet']['topLevelComment']['snippet']['authorDisplayName']\n",
        "            comments.append([username,comment])\n",
        "        if 'nextPageToken' in results:\n",
        "            nextPage = results['nextPageToken']\n",
        "            results = youtube.commentThreads().list(\n",
        "                part='snippet',\n",
        "                videoId=video_id,\n",
        "                textFormat='plainText',\n",
        "                pageToken=nextPage\n",
        "            ).execute()\n",
        "        else:\n",
        "            break\n",
        "\n",
        "    # Save the comments to a CSV file with the video ID as the filename\n",
        "    filename = video_id + '.csv'\n",
        "    with open(filename, 'w', newline='', encoding='utf-8') as csvfile:\n",
        "        writer = csv.writer(csvfile)\n",
        "        writer.writerow(['Username','Comment'])\n",
        "        for comment in comments:\n",
        "            writer.writerow([comment[0],comment[1]])\n",
        "\n",
        "    return filename"
      ]
    },
    {
      "cell_type": "markdown",
      "source": [
        "**youtube.commentThreads().list(): Meminta komentar untuk video yang ditentukan.\n",
        "comments: Daftar yang digunakan untuk menyimpan komentar dan nama pengguna.**\n",
        "\n",
        "**while results: Loop untuk mengumpulkan semua komentar, termasuk halaman berikutnya jika ada.**\n",
        "\n",
        "**csv.writer: Menulis komentar yang diambil ke file CSV.**"
      ],
      "metadata": {
        "id": "mZ274pc8SvpA"
      },
      "id": "mZ274pc8SvpA"
    },
    {
      "cell_type": "code",
      "execution_count": null,
      "id": "3e4aecca",
      "metadata": {
        "id": "3e4aecca"
      },
      "outputs": [],
      "source": [
        "def get_video_stats(video_id):\n",
        "    try:\n",
        "        response = youtube.videos().list(\n",
        "            part='statistics',\n",
        "            id=video_id\n",
        "        ).execute()\n",
        "\n",
        "        return response['items'][0]['statistics']\n",
        "\n",
        "    except HttpError as error:\n",
        "        print(f'An error occurred: {error}')\n",
        "        return None"
      ]
    },
    {
      "cell_type": "markdown",
      "source": [
        "**youtube.videos().list(part='statistics', id=video_id).execute(): Meminta statistik video berdasarkan ID video.**\n",
        "\n",
        "**try-except: Menangani kesalahan HTTP yang mungkin terjadi selama permintaan API.**"
      ],
      "metadata": {
        "id": "zyBxVgDATKWk"
      },
      "id": "zyBxVgDATKWk"
    },
    {
      "cell_type": "code",
      "execution_count": null,
      "id": "837000e6",
      "metadata": {
        "lines_to_next_cell": 2,
        "id": "837000e6"
      },
      "outputs": [],
      "source": []
    },
    {
      "cell_type": "code",
      "execution_count": null,
      "id": "ac070125",
      "metadata": {
        "id": "ac070125"
      },
      "outputs": [],
      "source": [
        "def get_channel_info(youtube, channel_id):\n",
        "    try:\n",
        "        response = youtube.channels().list(\n",
        "            part='snippet,statistics,brandingSettings',\n",
        "            id=channel_id\n",
        "        ).execute()\n",
        "\n",
        "        channel_title = response['items'][0]['snippet']['title']\n",
        "        video_count = response['items'][0]['statistics']['videoCount']\n",
        "        channel_logo_url = response['items'][0]['snippet']['thumbnails']['high']['url']\n",
        "        channel_created_date = response['items'][0]['snippet']['publishedAt']\n",
        "        subscriber_count = response['items'][0]['statistics']['subscriberCount']\n",
        "        channel_description = response['items'][0]['snippet']['description']\n",
        "\n",
        "\n",
        "        channel_info = {\n",
        "            'channel_title': channel_title,\n",
        "            'video_count': video_count,\n",
        "            'channel_logo_url': channel_logo_url,\n",
        "            'channel_created_date': channel_created_date,\n",
        "            'subscriber_count': subscriber_count,\n",
        "            'channel_description': channel_description\n",
        "        }\n",
        "\n",
        "        return channel_info\n",
        "\n",
        "    except HttpError as error:\n",
        "        print(f'An error occurred: {error}')\n",
        "        return None"
      ]
    },
    {
      "cell_type": "markdown",
      "source": [
        "**youtube.channels().list(part='snippet,statistics,brandingSettings', id=channel_id).execute(): Meminta informasi channel berdasarkan ID channel.**\n",
        "\n",
        "**channel_info: Mengumpulkan informasi tentang channel seperti judul, jumlah video, URL logo, tanggal pembuatan, jumlah pelanggan, dan deskripsi.**\n",
        "\n",
        "**try-except: Menangani kesalahan HTTP yang mungkin terjadi selama permintaan API.**"
      ],
      "metadata": {
        "id": "g2xjf77_TRHF"
      },
      "id": "g2xjf77_TRHF"
    },
    {
      "cell_type": "code",
      "execution_count": null,
      "id": "78ba912e",
      "metadata": {
        "lines_to_next_cell": 2,
        "id": "78ba912e"
      },
      "outputs": [],
      "source": []
    }
  ],
  "metadata": {
    "jupytext": {
      "cell_metadata_filter": "-all",
      "main_language": "python",
      "notebook_metadata_filter": "-all"
    },
    "colab": {
      "provenance": [],
      "include_colab_link": true
    },
    "language_info": {
      "name": "python"
    },
    "kernelspec": {
      "name": "python3",
      "display_name": "Python 3"
    }
  },
  "nbformat": 4,
  "nbformat_minor": 5
}