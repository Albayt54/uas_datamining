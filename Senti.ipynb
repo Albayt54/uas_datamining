{
  "cells": [
    {
      "cell_type": "markdown",
      "metadata": {
        "id": "view-in-github",
        "colab_type": "text"
      },
      "source": [
        "<a href=\"https://colab.research.google.com/github/Albayt54/uas_datamining/blob/main/Senti.ipynb\" target=\"_parent\"><img src=\"https://colab.research.google.com/assets/colab-badge.svg\" alt=\"Open In Colab\"/></a>"
      ]
    },
    {
      "cell_type": "code",
      "execution_count": null,
      "id": "027f3366",
      "metadata": {
        "lines_to_next_cell": 1,
        "id": "027f3366"
      },
      "outputs": [],
      "source": [
        "import csv\n",
        "import re\n",
        "import pandas as pd\n",
        "import nltk\n",
        "nltk.download('vader_lexicon')\n",
        "from nltk.sentiment.vader import SentimentIntensityAnalyzer\n",
        "import plotly.express as px\n",
        "import plotly.graph_objects as go\n",
        "from colorama import Fore, Style\n",
        "from typing import Dict\n",
        "import streamlit as st"
      ]
    },
    {
      "cell_type": "markdown",
      "source": [
        "**csv: Untuk membaca dan menulis file CSV.**\n",
        "\n",
        "**re: Untuk pencocokan pola menggunakan ekspresi reguler.**\n",
        "\n",
        "**pandas as pd: Untuk manipulasi data menggunakan DataFrame.**\n",
        "\n",
        "**nltk dan nltk.sentiment.vader: Library Natural Language Toolkit untuk analisis sentimen menggunakan VADER.**\n",
        "\n",
        "**plotly.express dan plotly.graph_objects: Untuk membuat visualisasi data, seperti grafik batang dan diagram lingkaran.**\n",
        "\n",
        "**colorama: Untuk mencetak teks berwarna di terminal.\n",
        "typing: Digunakan untuk memberikan tipe pada variabel, seperti Dict.**\n",
        "\n",
        "**streamlit as st: Digunakan untuk membuat antarmuka web yang interaktif.**\n",
        "\n",
        "**nltk.download('vader_lexicon'): Mengunduh kamus VADER yang digunakan untuk analisis sentimen.**"
      ],
      "metadata": {
        "id": "5SG_jo0Yh3LJ"
      },
      "id": "5SG_jo0Yh3LJ"
    },
    {
      "cell_type": "code",
      "execution_count": null,
      "id": "5d7ea644",
      "metadata": {
        "lines_to_next_cell": 1,
        "id": "5d7ea644"
      },
      "outputs": [],
      "source": [
        "def extract_video_id(youtube_link):\n",
        "    video_id_regex = r\"^(?:https?:\\/\\/)?(?:www\\.)?(?:youtube\\.com\\/watch\\?v=|youtu.be\\/)([a-zA-Z0-9_-]{11})\"\n",
        "    match = re.search(video_id_regex, youtube_link)\n",
        "    if match:\n",
        "        video_id = match.group(1)\n",
        "        return video_id\n",
        "    else:\n",
        "        return None"
      ]
    },
    {
      "cell_type": "markdown",
      "source": [
        "**extract_video_id(youtube_link): Fungsi ini digunakan untuk mengekstrak ID video dari link YouTube menggunakan ekspresi reguler.**\n",
        "\n",
        "**video_id_regex: Pola ekspresi reguler untuk mencocokkan ID video dalam berbagai format URL YouTube.**\n",
        "\n",
        "**re.search: Mencari pola dalam link YouTube, dan jika cocok, ID video dikembalikan.**"
      ],
      "metadata": {
        "id": "SUXoGqSFiOFi"
      },
      "id": "SUXoGqSFiOFi"
    },
    {
      "cell_type": "code",
      "execution_count": null,
      "id": "e7ccaeac",
      "metadata": {
        "lines_to_next_cell": 1,
        "id": "e7ccaeac"
      },
      "outputs": [],
      "source": [
        "def analyze_sentiment(csv_file):\n",
        "    # Initialize the sentiment analyzer\n",
        "    sid = SentimentIntensityAnalyzer()\n",
        "\n",
        "    # Read in the YouTube comments from the CSV file\n",
        "    comments = []\n",
        "    with open(csv_file, 'r', encoding='utf-8-sig') as csvfile:\n",
        "        reader = csv.DictReader(csvfile)\n",
        "        for row in reader:\n",
        "            comments.append(row['Comment'])\n",
        "\n",
        "    # Count the number of neutral, positive, and negative comments\n",
        "    num_neutral = 0\n",
        "    num_positive = 0\n",
        "    num_negative = 0\n",
        "    for comment in comments:\n",
        "        sentiment_scores = sid.polarity_scores(comment)\n",
        "        if sentiment_scores['compound'] == 0.0:\n",
        "            num_neutral += 1\n",
        "        elif sentiment_scores['compound'] > 0.0:\n",
        "            num_positive += 1\n",
        "        else:\n",
        "            num_negative += 1\n",
        "\n",
        "    # Return the results as a dictionary\n",
        "    results = {'num_neutral': num_neutral, 'num_positive': num_positive, 'num_negative': num_negative}\n",
        "    return results"
      ]
    },
    {
      "cell_type": "markdown",
      "source": [
        "**analyze_sentiment(csv_file): Fungsi ini menganalisis sentimen dari komentar-komentar YouTube yang disimpan dalam file CSV.**\n",
        "\n",
        "**SentimentIntensityAnalyzer(): Menginisialisasi analyzer sentimen VADER.**\n",
        "\n",
        "**csv.DictReader: Membaca file CSV dan menyimpan komentar ke dalam daftar comments.**\n",
        "\n",
        "**sid.polarity_scores(comment): Menghitung skor sentimen dari komentar. Skor 'compound' digunakan untuk menentukan apakah komentar netral, positif, atau negatif.**\n",
        "\n",
        "**results: Mengembalikan hasil analisis dalam bentuk dictionary yang berisi jumlah komentar netral, positif, dan negatif.**"
      ],
      "metadata": {
        "id": "QFyVddD3iXge"
      },
      "id": "QFyVddD3iXge"
    },
    {
      "cell_type": "code",
      "execution_count": null,
      "id": "75120774",
      "metadata": {
        "lines_to_next_cell": 1,
        "id": "75120774"
      },
      "outputs": [],
      "source": [
        "def bar_chart(csv_file: str) -> None:\n",
        "    # Call analyze_sentiment function to get the results\n",
        "    results: Dict[str, int] = analyze_sentiment(csv_file)\n",
        "\n",
        "    # Get the counts for each sentiment category\n",
        "    num_neutral = results['num_neutral']\n",
        "    num_positive = results['num_positive']\n",
        "    num_negative = results['num_negative']\n",
        "\n",
        "    # Create a Pandas DataFrame with the results\n",
        "    df = pd.DataFrame({\n",
        "        'Sentiment': ['Positive', 'Negative', 'Neutral'],\n",
        "        'Number of Comments': [num_positive, num_negative, num_neutral]\n",
        "    })\n",
        "\n",
        "    # Create the bar chart using Plotly Express\n",
        "    fig = px.bar(df, x='Sentiment', y='Number of Comments', color='Sentiment',\n",
        "                 color_discrete_sequence=['#87CEFA', '#FFA07A', '#D3D3D3'],\n",
        "                 title='Sentiment Analysis Results')\n",
        "    fig.update_layout(title_font=dict(size=20))\n",
        "\n",
        "\n",
        "    # Show the chart\n",
        "    st.plotly_chart(fig, use_container_width=True)"
      ]
    },
    {
      "cell_type": "markdown",
      "source": [
        "**bar_chart(csv_file: str) -> None: Fungsi ini menampilkan grafik batang dari hasil analisis sentimen.**\n",
        "\n",
        "**results: Mendapatkan hasil analisis sentimen dengan memanggil analyze_sentiment.**\n",
        "\n",
        "**pd.DataFrame: Membuat DataFrame dari hasil analisis untuk visualisasi.**\n",
        "\n",
        "**px.bar: Menggunakan Plotly Express untuk membuat grafik batang berdasarkan hasil analisis sentimen.**\n",
        "\n",
        "**st.plotly_chart: Menampilkan grafik batang di aplikasi Streamlit.**"
      ],
      "metadata": {
        "id": "35IClR_pilv6"
      },
      "id": "35IClR_pilv6"
    },
    {
      "cell_type": "code",
      "execution_count": null,
      "id": "2be7024f",
      "metadata": {
        "id": "2be7024f"
      },
      "outputs": [],
      "source": [
        "def plot_sentiment(csv_file: str) -> None:\n",
        "    # Call analyze_sentiment function to get the results\n",
        "    results: Dict[str, int] = analyze_sentiment(csv_file)\n",
        "\n",
        "    # Get the counts for each sentiment category\n",
        "    num_neutral = results['num_neutral']\n",
        "    num_positive = results['num_positive']\n",
        "    num_negative = results['num_negative']\n",
        "\n",
        "    # Plot the pie chart\n",
        "    labels = ['Neutral', 'Positive', 'Negative']\n",
        "    values = [num_neutral, num_positive, num_negative]\n",
        "    colors = ['yellow', 'green', 'red']\n",
        "    fig = go.Figure(data=[go.Pie(labels=labels, values=values, textinfo='label+percent',\n",
        "                                 marker=dict(colors=colors))])\n",
        "    fig.update_layout(title={'text': 'Sentiment Analysis Results', 'font': {'size': 20, 'family': 'Arial', 'color': 'grey'},\n",
        "                              'x': 0.5, 'y': 0.9},\n",
        "                      font=dict(size=14))\n",
        "    st.plotly_chart(fig)"
      ]
    },
    {
      "cell_type": "markdown",
      "source": [
        "**plot_sentiment(csv_file: str) -> None: Fungsi ini menampilkan diagram lingkaran dari hasil analisis sentimen.**\n",
        "\n",
        "**go.Figure(data=[go.Pie(...)]): Menggunakan Plotly Graph Objects untuk membuat diagram lingkaran yang menampilkan persentase setiap kategori sentimen.**\n",
        "\n",
        "**st.plotly_chart: Menampilkan diagram lingkaran di aplikasi Streamlit.**"
      ],
      "metadata": {
        "id": "fAHOWUvBivvq"
      },
      "id": "fAHOWUvBivvq"
    },
    {
      "cell_type": "code",
      "execution_count": null,
      "id": "b9a8905f",
      "metadata": {
        "id": "b9a8905f"
      },
      "outputs": [],
      "source": []
    },
    {
      "cell_type": "code",
      "execution_count": null,
      "id": "1e78b31c",
      "metadata": {
        "id": "1e78b31c"
      },
      "outputs": [],
      "source": [
        "def create_scatterplot(csv_file: str, x_column: str, y_column: str) -> None:\n",
        "    # Load data from CSV\n",
        "    data = pd.read_csv(csv_file)\n",
        "\n",
        "    # Create scatter plot using Plotly\n",
        "    fig = px.scatter(data, x=x_column, y=y_column, color='Category')\n",
        "\n",
        "    # Customize layout\n",
        "    fig.update_layout(\n",
        "        title='Scatter Plot',\n",
        "        xaxis_title=x_column,\n",
        "        yaxis_title=y_column,\n",
        "        font=dict(size=18)\n",
        "    )\n",
        "\n",
        "    # Display plot in Streamlit\n",
        "    st.plotly_chart(fig, use_container_width=True)"
      ]
    },
    {
      "cell_type": "markdown",
      "source": [
        "**create_scatterplot(csv_file: str, x_column: str, y_column: str) -> None: Fungsi ini membuat dan menampilkan scatter plot berdasarkan data dalam file CSV.**\n",
        "\n",
        "**pd.read_csv: Membaca data dari file CSV.**\n",
        "\n",
        "**px.scatter: Menggunakan Plotly Express untuk membuat scatter plot berdasarkan kolom yang ditentukan.**\n",
        "\n",
        "**st.plotly_chart: Menampilkan scatter plot di aplikasi Streamlit.**"
      ],
      "metadata": {
        "id": "Ollv1oz1i7BG"
      },
      "id": "Ollv1oz1i7BG"
    },
    {
      "cell_type": "code",
      "execution_count": null,
      "id": "31edb356",
      "metadata": {
        "id": "31edb356"
      },
      "outputs": [],
      "source": []
    },
    {
      "cell_type": "code",
      "execution_count": null,
      "id": "1ebdb732",
      "metadata": {
        "id": "1ebdb732"
      },
      "outputs": [],
      "source": [
        "def print_sentiment(csv_file: str) -> None:\n",
        "    # Call analyze_sentiment function to get the results\n",
        "    results: Dict[str, int] = analyze_sentiment(csv_file)\n",
        "\n",
        "    # Get the counts for each sentiment category\n",
        "    num_neutral = results['num_neutral']\n",
        "    num_positive = results['num_positive']\n",
        "    num_negative = results['num_negative']\n",
        "\n",
        "\n",
        "    # Determine the overall sentiment\n",
        "    if num_positive > num_negative:\n",
        "        overall_sentiment = 'POSITIVE'\n",
        "        color = Fore.GREEN\n",
        "    elif num_negative > num_positive:\n",
        "        overall_sentiment = 'NEGATIVE'\n",
        "        color = Fore.RED\n",
        "    else:\n",
        "        overall_sentiment = 'NEUTRAL'\n",
        "        color = Fore.YELLOW\n",
        "\n",
        "    # Print the overall sentiment in color\n",
        "    print('\\n'+ Style.BRIGHT+ color + overall_sentiment.upper().center(50, ' ') + Style.RESET_ALL)"
      ]
    },
    {
      "cell_type": "markdown",
      "source": [
        "**print_sentiment(csv_file: str) -> None: Fungsi ini menentukan dan mencetak sentimen keseluruhan berdasarkan hasil analisis komentar.**\n",
        "\n",
        "**if num_positive > num_negative: Menentukan apakah sentimen keseluruhan positif, negatif, atau netral.**\n",
        "\n",
        "**colorama.Fore dan Style: Digunakan untuk mencetak sentimen keseluruhan dalam warna tertentu di terminal.**"
      ],
      "metadata": {
        "id": "K9trx71cjEKm"
      },
      "id": "K9trx71cjEKm"
    },
    {
      "cell_type": "code",
      "execution_count": null,
      "id": "0bc798bf",
      "metadata": {
        "lines_to_next_cell": 2,
        "id": "0bc798bf"
      },
      "outputs": [],
      "source": []
    }
  ],
  "metadata": {
    "jupytext": {
      "cell_metadata_filter": "-all",
      "main_language": "python",
      "notebook_metadata_filter": "-all"
    },
    "colab": {
      "provenance": [],
      "include_colab_link": true
    }
  },
  "nbformat": 4,
  "nbformat_minor": 5
}