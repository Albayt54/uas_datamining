{
  "cells": [
    {
      "cell_type": "markdown",
      "metadata": {
        "id": "view-in-github",
        "colab_type": "text"
      },
      "source": [
        "<a href=\"https://colab.research.google.com/github/Albayt54/uas_datamining/blob/main/app.ipynb\" target=\"_parent\"><img src=\"https://colab.research.google.com/assets/colab-badge.svg\" alt=\"Open In Colab\"/></a>"
      ]
    },
    {
      "cell_type": "code",
      "execution_count": 24,
      "id": "c1523aae",
      "metadata": {
        "colab": {
          "base_uri": "https://localhost:8080/",
          "height": 418
        },
        "id": "c1523aae",
        "outputId": "cd697116-59cf-43ab-fdc0-7583793454eb"
      },
      "outputs": [
        {
          "output_type": "error",
          "ename": "ModuleNotFoundError",
          "evalue": "No module named 'Senti'",
          "traceback": [
            "\u001b[0;31m---------------------------------------------------------------------------\u001b[0m",
            "\u001b[0;31mModuleNotFoundError\u001b[0m                       Traceback (most recent call last)",
            "\u001b[0;32m<ipython-input-24-8859fb50d361>\u001b[0m in \u001b[0;36m<cell line: 3>\u001b[0;34m()\u001b[0m\n\u001b[1;32m      1\u001b[0m \u001b[0;32mimport\u001b[0m \u001b[0mstreamlit\u001b[0m \u001b[0;32mas\u001b[0m \u001b[0mst\u001b[0m\u001b[0;34m\u001b[0m\u001b[0;34m\u001b[0m\u001b[0m\n\u001b[1;32m      2\u001b[0m \u001b[0;32mimport\u001b[0m \u001b[0mos\u001b[0m\u001b[0;34m\u001b[0m\u001b[0;34m\u001b[0m\u001b[0m\n\u001b[0;32m----> 3\u001b[0;31m \u001b[0;32mfrom\u001b[0m \u001b[0mSenti\u001b[0m \u001b[0;32mimport\u001b[0m \u001b[0mextract_video_id\u001b[0m\u001b[0;34m,\u001b[0m \u001b[0manalyze_sentiment\u001b[0m\u001b[0;34m,\u001b[0m \u001b[0mbar_chart\u001b[0m\u001b[0;34m,\u001b[0m \u001b[0mplot_sentiment\u001b[0m\u001b[0;34m\u001b[0m\u001b[0;34m\u001b[0m\u001b[0m\n\u001b[0m\u001b[1;32m      4\u001b[0m \u001b[0;32mfrom\u001b[0m \u001b[0mYoutubeCommentScrapper\u001b[0m \u001b[0;32mimport\u001b[0m \u001b[0msave_video_comments_to_csv\u001b[0m\u001b[0;34m,\u001b[0m \u001b[0mget_channel_info\u001b[0m\u001b[0;34m,\u001b[0m \u001b[0myoutube\u001b[0m\u001b[0;34m,\u001b[0m \u001b[0mget_channel_id\u001b[0m\u001b[0;34m,\u001b[0m \u001b[0mget_video_stats\u001b[0m\u001b[0;34m\u001b[0m\u001b[0;34m\u001b[0m\u001b[0m\n\u001b[1;32m      5\u001b[0m \u001b[0;34m\u001b[0m\u001b[0m\n",
            "\u001b[0;31mModuleNotFoundError\u001b[0m: No module named 'Senti'",
            "",
            "\u001b[0;31m---------------------------------------------------------------------------\u001b[0;32m\nNOTE: If your import is failing due to a missing package, you can\nmanually install dependencies using either !pip or !apt.\n\nTo view examples of installing some common dependencies, click the\n\"Open Examples\" button below.\n\u001b[0;31m---------------------------------------------------------------------------\u001b[0m\n"
          ],
          "errorDetails": {
            "actions": [
              {
                "action": "open_url",
                "actionText": "Open Examples",
                "url": "/notebooks/snippets/importing_libraries.ipynb"
              }
            ]
          }
        }
      ],
      "source": [
        "import streamlit as st\n",
        "import os\n",
        "from Senti import extract_video_id, analyze_sentiment, bar_chart, plot_sentiment\n",
        "from YoutubeCommentScrapper import save_video_comments_to_csv, get_channel_info, youtube, get_channel_id, get_video_stats\n",
        "\n",
        "def delete_non_matching_csv_files(directory_path, video_id):\n",
        "    for file_name in os.listdir(directory_path):\n",
        "        if not file_name.endswith('.csv'):\n",
        "            continue\n",
        "        if file_name == f'{video_id}.csv':\n",
        "            continue\n",
        "        os.remove(os.path.join(directory_path, file_name))\n",
        "\n",
        "st.set_page_config(page_title='Jatin_Agrawal_20BCS6606', page_icon='LOGO.png', initial_sidebar_state='auto')\n",
        "st.sidebar.title(\"Sentimental Analysis\")\n",
        "st.sidebar.header(\"Enter YouTube Link\")\n",
        "youtube_link = st.sidebar.text_input(\"Link\")\n",
        "directory_path = os.getcwd()\n",
        "hide_st_style = \"\"\"\n",
        "            <style>\n",
        "            #MainMenu {visibility: hidden;}\n",
        "            footer {visibility: hidden;}\n",
        "            </style>\n",
        "            \"\"\"\n",
        "st.markdown(hide_st_style, unsafe_allow_html=True)\n",
        "\n",
        "if youtube_link:\n",
        "    video_id = extract_video_id(youtube_link)\n",
        "    channel_id = get_channel_id(video_id)\n",
        "    if video_id:\n",
        "        st.sidebar.write(\"The video ID is:\", video_id)\n",
        "        csv_file = save_video_comments_to_csv(video_id)\n",
        "        delete_non_matching_csv_files(directory_path, video_id)\n",
        "        st.sidebar.write(\"Comments saved to CSV!\")\n",
        "        st.sidebar.download_button(label=\"Download Comments\", data=open(csv_file, 'rb').read(), file_name=os.path.basename(csv_file), mime=\"text/csv\")\n",
        "\n",
        "        channel_info = get_channel_info(youtube, channel_id)\n",
        "\n",
        "        col1, col2 = st.columns(2)\n",
        "        with col1:\n",
        "            channel_logo_url = channel_info['channel_logo_url']\n",
        "            st.image(channel_logo_url, width=250)\n",
        "\n",
        "        with col2:\n",
        "            channel_title = channel_info['channel_title']\n",
        "            st.text(\"YouTube Channel Name\")\n",
        "            st.title(channel_title)\n",
        "\n",
        "        col3, col4, col5 = st.columns(3)\n",
        "        with col3:\n",
        "            video_count = channel_info['video_count']\n",
        "            st.header(\"Total Videos\")\n",
        "            st.subheader(video_count)\n",
        "\n",
        "        with col4:\n",
        "            channel_created_date = channel_info['channel_created_date']\n",
        "            created_date = channel_created_date[:10]\n",
        "            st.header(\"Channel Created\")\n",
        "            st.subheader(created_date)\n",
        "\n",
        "        with col5:\n",
        "            st.header(\"Subscriber Count\")\n",
        "            st.subheader(channel_info[\"subscriber_count\"])\n",
        "\n",
        "        stats = get_video_stats(video_id)\n",
        "\n",
        "        st.title(\"Video Information:\")\n",
        "        col6, col7, col8 = st.columns(3)\n",
        "        with col6:\n",
        "            st.header(\"Total Views\")\n",
        "            st.subheader(stats[\"viewCount\"])\n",
        "\n",
        "        with col7:\n",
        "            st.header(\"Like Count\")\n",
        "            st.subheader(stats[\"likeCount\"])\n",
        "\n",
        "        with col8:\n",
        "            st.header(\"Comment Count\")\n",
        "            st.subheader(stats[\"commentCount\"])\n",
        "\n",
        "        _, container, _ = st.columns([10, 80, 10])\n",
        "        container.video(data=youtube_link)\n",
        "\n",
        "        results = analyze_sentiment(csv_file)\n",
        "\n",
        "        col9, col10, col11 = st.columns(3)\n",
        "        with col9:\n",
        "            st.header(\"Positive Comments\")\n",
        "            st.subheader(results['num_positive'])\n",
        "\n",
        "        with col10:\n",
        "            st.header(\"Negative Comments\")\n",
        "            st.subheader(results['num_negative'])\n",
        "\n",
        "        with col11:\n",
        "            st.header(\"Neutral Comments\")\n",
        "            st.subheader(results['num_neutral'])\n",
        "\n",
        "        bar_chart(csv_file)\n",
        "        plot_sentiment(csv_file)\n",
        "\n",
        "        st.subheader(\"Channel Description\")\n",
        "        channel_description = channel_info['channel_description']\n",
        "        st.write(channel_description)\n",
        "    else:\n",
        "        st.error(\"Invalid YouTube link\")\n"
      ]
    },
    {
      "source": [
        "!pip install Senti"
      ],
      "cell_type": "code",
      "metadata": {
        "colab": {
          "base_uri": "https://localhost:8080/"
        },
        "id": "FuRhjlaBwjC6",
        "outputId": "b050ac36-6193-4a94-e361-28d1f32473a1"
      },
      "id": "FuRhjlaBwjC6",
      "execution_count": 17,
      "outputs": [
        {
          "output_type": "stream",
          "name": "stdout",
          "text": [
            "Requirement already satisfied: Senti in /usr/local/lib/python3.10/dist-packages (1.0)\n"
          ]
        }
      ]
    },
    {
      "source": [
        "!pip install git+https://github.com/Jatin-Agrawal-20BCS6606/Senti.git"
      ],
      "cell_type": "code",
      "metadata": {
        "colab": {
          "base_uri": "https://localhost:8080/"
        },
        "id": "U7hjIxiGwaIW",
        "outputId": "46dc1fa8-e446-443b-c878-9c5f39e64571"
      },
      "id": "U7hjIxiGwaIW",
      "execution_count": 15,
      "outputs": [
        {
          "output_type": "stream",
          "name": "stdout",
          "text": [
            "Collecting git+https://github.com/Jatin-Agrawal-20BCS6606/Senti.git\n",
            "  Cloning https://github.com/Jatin-Agrawal-20BCS6606/Senti.git to /tmp/pip-req-build-e2xtnxyq\n",
            "  Running command git clone --filter=blob:none --quiet https://github.com/Jatin-Agrawal-20BCS6606/Senti.git /tmp/pip-req-build-e2xtnxyq\n",
            "  fatal: could not read Username for 'https://github.com': No such device or address\n",
            "  \u001b[1;31merror\u001b[0m: \u001b[1msubprocess-exited-with-error\u001b[0m\n",
            "  \n",
            "  \u001b[31m×\u001b[0m \u001b[32mgit clone --\u001b[0m\u001b[32mfilter\u001b[0m\u001b[32m=\u001b[0m\u001b[32mblob\u001b[0m\u001b[32m:none --quiet \u001b[0m\u001b[4;32mhttps://github.com/Jatin-Agrawal-20BCS6606/Senti.git\u001b[0m\u001b[32m \u001b[0m\u001b[32m/tmp/\u001b[0m\u001b[32mpip-req-build-e2xtnxyq\u001b[0m did not run successfully.\n",
            "  \u001b[31m│\u001b[0m exit code: \u001b[1;36m128\u001b[0m\n",
            "  \u001b[31m╰─>\u001b[0m See above for output.\n",
            "  \n",
            "  \u001b[1;35mnote\u001b[0m: This error originates from a subprocess, and is likely not a problem with pip.\n",
            "\u001b[1;31merror\u001b[0m: \u001b[1msubprocess-exited-with-error\u001b[0m\n",
            "\n",
            "\u001b[31m×\u001b[0m \u001b[32mgit clone --\u001b[0m\u001b[32mfilter\u001b[0m\u001b[32m=\u001b[0m\u001b[32mblob\u001b[0m\u001b[32m:none --quiet \u001b[0m\u001b[4;32mhttps://github.com/Jatin-Agrawal-20BCS6606/Senti.git\u001b[0m\u001b[32m \u001b[0m\u001b[32m/tmp/\u001b[0m\u001b[32mpip-req-build-e2xtnxyq\u001b[0m did not run successfully.\n",
            "\u001b[31m│\u001b[0m exit code: \u001b[1;36m128\u001b[0m\n",
            "\u001b[31m╰─>\u001b[0m See above for output.\n",
            "\n",
            "\u001b[1;35mnote\u001b[0m: This error originates from a subprocess, and is likely not a problem with pip.\n"
          ]
        }
      ]
    },
    {
      "source": [
        "# Senti.py\n",
        "\n",
        "def extract_video_id(youtube_link):\n",
        "    # Logic to extract video ID from the YouTube link\n",
        "    pass  # Replace with your actual"
      ],
      "cell_type": "code",
      "metadata": {
        "id": "KTBThYOVwF3q"
      },
      "id": "KTBThYOVwF3q",
      "execution_count": 26,
      "outputs": []
    },
    {
      "cell_type": "code",
      "execution_count": null,
      "id": "be8ad2af",
      "metadata": {
        "id": "be8ad2af"
      },
      "outputs": [],
      "source": []
    },
    {
      "cell_type": "code",
      "execution_count": 27,
      "id": "86cb35df",
      "metadata": {
        "id": "86cb35df"
      },
      "outputs": [],
      "source": [
        "def delete_non_matching_csv_files(directory_path, video_id):\n",
        "    for file_name in os.listdir(directory_path):\n",
        "        if not file_name.endswith('.csv'):\n",
        "            continue\n",
        "        if file_name == f'{video_id}.csv':\n",
        "            continue\n",
        "        os.remove(os.path.join(directory_path, file_name))"
      ]
    },
    {
      "cell_type": "code",
      "execution_count": 28,
      "id": "992b4c9d",
      "metadata": {
        "lines_to_next_cell": 2,
        "colab": {
          "base_uri": "https://localhost:8080/"
        },
        "id": "992b4c9d",
        "outputId": "75ad5f65-41eb-4292-f197-154cac9e8a38"
      },
      "outputs": [
        {
          "output_type": "stream",
          "name": "stderr",
          "text": [
            "2024-08-08 06:56:34.121 \n",
            "  \u001b[33m\u001b[1mWarning:\u001b[0m to view this Streamlit app on a browser, run it with the following\n",
            "  command:\n",
            "\n",
            "    streamlit run /usr/local/lib/python3.10/dist-packages/colab_kernel_launcher.py [ARGUMENTS]\n",
            "2024-08-08 06:56:34.124 Session state does not function when running a script without `streamlit run`\n"
          ]
        },
        {
          "output_type": "execute_result",
          "data": {
            "text/plain": [
              "DeltaGenerator()"
            ]
          },
          "metadata": {},
          "execution_count": 28
        }
      ],
      "source": [
        "st.set_page_config(page_title='Jatin_Agrawal_20BCS6606', page_icon = 'LOGO.png', initial_sidebar_state = 'auto')\n",
        "#st.set_page_config(page_title=None, page_icon=None, layout=\"centered\", initial_sidebar_state=\"auto\", menu_items=None)\n",
        "st.sidebar.title(\"Sentimental Analsis\")\n",
        "st.sidebar.header(\"Enter YouTube Link\")\n",
        "youtube_link = st.sidebar.text_input(\"Link\")\n",
        "directory_path = os.getcwd()\n",
        "hide_st_style = \"\"\"\n",
        "            <style>\n",
        "            #MainMenu {visibility: hidden;}\n",
        "            footer {visibility: hidden;}\n",
        "            </style>\n",
        "            \"\"\"\n",
        "st.markdown(hide_st_style, unsafe_allow_html=True)"
      ]
    },
    {
      "cell_type": "code",
      "execution_count": 30,
      "id": "20797356",
      "metadata": {
        "id": "20797356"
      },
      "outputs": [],
      "source": [
        "if youtube_link:\n",
        "    video_id = extract_video_id(youtube_link)\n",
        "    channel_id = get_channel_id(video_id)\n",
        "    if video_id:\n",
        "        st.sidebar.write(\"The video ID is:\", video_id)\n",
        "        csv_file = save_video_comments_to_csv(video_id)\n",
        "        delete_non_matching_csv_files(directory_path,video_id)\n",
        "        st.sidebar.write(\"Comments saved to CSV!\")\n",
        "        st.sidebar.download_button(label=\"Download Comments\", data=open(csv_file, 'rb').read(), file_name=os.path.basename(csv_file), mime=\"text/csv\")\n",
        "\n",
        "        #using fn\n",
        "        channel_info = get_channel_info(youtube,channel_id)\n",
        "\n",
        "        col1, col2 = st.columns(2)\n",
        "\n",
        "        with col1:\n",
        "           channel_logo_url = channel_info['channel_logo_url']\n",
        "           st.image(channel_logo_url, width=250)\n",
        "\n",
        "        with col2:\n",
        "           channel_title = channel_info['channel_title']\n",
        "           st.title(' ')\n",
        "           st.text(\"  YouTube Channel Name  \")\n",
        "           #st.markdown('** YouTube Channel Name **')\n",
        "           st.title(channel_title)\n",
        "           st.title(\"  \")\n",
        "           st.title(\" \")\n",
        "           st.title(\" \")\n",
        "\n",
        "\n",
        "        #Using fn\n",
        "\n",
        "\n",
        "\n",
        "        st.title(\" \")\n",
        "        col3, col4 ,col5 = st.columns(3)\n",
        "\n",
        "\n",
        "        with col3:\n",
        "           video_count=channel_info['video_count']\n",
        "           st.header(\"  Total Videos  \")\n",
        "           #st.subheader(\"Total Videos\")\n",
        "           st.subheader(video_count)\n",
        "\n",
        "        with col4:\n",
        "           channel_created_date= channel_info['channel_created_date']\n",
        "           created_date = channel_created_date[:10]\n",
        "           st.header(\"Channel Created \")\n",
        "           st.subheader(created_date)\n",
        "\n",
        "        with col5:\n",
        "\n",
        "            st.header(\" Subscriber_Count \")\n",
        "            st.subheader(channel_info[\"subscriber_count\"])\n",
        "\n",
        "        st.title(\" \")\n",
        "\n",
        "        stats = get_video_stats(video_id)\n",
        "\n",
        "        st.title(\"Video Information :\")\n",
        "        col6, col7 ,col8 = st.columns(3)\n",
        "\n",
        "\n",
        "        with col6:\n",
        "            st.header(\"  Total Views  \")\n",
        "           #st.subheader(\"Total Videos\")\n",
        "            st.subheader(stats[\"viewCount\"])\n",
        "\n",
        "        with col7:\n",
        "           st.header(\" Like Count \")\n",
        "           st.subheader(stats[\"likeCount\"])\n",
        "\n",
        "\n",
        "        with col8:\n",
        "\n",
        "            st.header(\" Comment Count \")\n",
        "            st.subheader(stats[\"commentCount\"])\n",
        "\n",
        "        st.header(\" \")\n",
        "\n",
        "\n",
        "        _, container, _ = st.columns([10, 80, 10])\n",
        "        container.video(data=youtube_link)\n",
        "\n",
        "\n",
        "\n",
        "\n",
        "\n",
        "        results = analyze_sentiment(csv_file)\n",
        "\n",
        "\n",
        "        col9, col10 ,col11 = st.columns(3)\n",
        "\n",
        "\n",
        "        with col9:\n",
        "            st.header(\"  Positive Comments  \")\n",
        "           #st.subheader(\"Total Videos\")\n",
        "            st.subheader(results['num_positive'])\n",
        "\n",
        "        with col10:\n",
        "           st.header(\" Negative Comments \")\n",
        "           st.subheader( results['num_negative'])\n",
        "\n",
        "\n",
        "        with col11:\n",
        "\n",
        "            st.header(\" Neutral Comments \")\n",
        "            st.subheader(results['num_neutral'])\n",
        "\n",
        "\n",
        "        bar_chart(csv_file)\n",
        "\n",
        "        plot_sentiment(csv_file)\n",
        "\n",
        "\n",
        "        st.subheader(\"Channel Description \")\n",
        "        channel_description = channel_info['channel_description']\n",
        "        st.write(channel_description)\n",
        "\n",
        "    else:\n",
        "        st.error(\"Invalid YouTube link\")"
      ]
    },
    {
      "cell_type": "code",
      "execution_count": null,
      "id": "c4b22ef0",
      "metadata": {
        "id": "c4b22ef0"
      },
      "outputs": [],
      "source": [
        ""
      ]
    },
    {
      "cell_type": "code",
      "execution_count": null,
      "id": "482bc292",
      "metadata": {
        "id": "482bc292"
      },
      "outputs": [],
      "source": [
        ""
      ]
    },
    {
      "cell_type": "code",
      "execution_count": null,
      "id": "788024ee",
      "metadata": {
        "id": "788024ee"
      },
      "outputs": [],
      "source": [
        ""
      ]
    },
    {
      "cell_type": "code",
      "execution_count": null,
      "id": "699d5833",
      "metadata": {
        "lines_to_next_cell": 2,
        "id": "699d5833"
      },
      "outputs": [],
      "source": []
    }
  ],
  "metadata": {
    "jupytext": {
      "cell_metadata_filter": "-all",
      "main_language": "python",
      "notebook_metadata_filter": "-all"
    },
    "colab": {
      "provenance": [],
      "include_colab_link": true
    },
    "language_info": {
      "name": "python"
    },
    "kernelspec": {
      "name": "python3",
      "display_name": "Python 3"
    }
  },
  "nbformat": 4,
  "nbformat_minor": 5
}